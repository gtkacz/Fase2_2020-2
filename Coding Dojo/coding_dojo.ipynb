{
 "cells": [
  {
   "cell_type": "code",
   "execution_count": 1,
   "metadata": {},
   "outputs": [
    {
     "name": "stdout",
     "output_type": "stream",
     "text": [
      "Hello World\n"
     ]
    }
   ],
   "source": [
    "print(\"Hello World\")"
   ]
  },
  {
   "cell_type": "code",
   "execution_count": 5,
   "metadata": {},
   "outputs": [
    {
     "name": "stdout",
     "output_type": "stream",
     "text": [
      "Para jogar, digite: atacar, magia, pocao ou upgrade\n"
     ]
    },
    {
     "ename": "KeyboardInterrupt",
     "evalue": "Interrupted by user",
     "output_type": "error",
     "traceback": [
      "\u001b[1;31m---------------------------------------------------------------------------\u001b[0m",
      "\u001b[1;31mKeyboardInterrupt\u001b[0m                         Traceback (most recent call last)",
      "\u001b[1;32m<ipython-input-5-d4680b95d618>\u001b[0m in \u001b[0;36m<module>\u001b[1;34m\u001b[0m\n\u001b[0;32m     63\u001b[0m \u001b[1;32mwhile\u001b[0m \u001b[0mrodada\u001b[0m\u001b[1;33m:\u001b[0m\u001b[1;33m\u001b[0m\u001b[1;33m\u001b[0m\u001b[0m\n\u001b[0;32m     64\u001b[0m     \u001b[0mprint\u001b[0m\u001b[1;33m(\u001b[0m\u001b[1;34m\"Para jogar, digite: atacar, magia, pocao ou upgrade\"\u001b[0m\u001b[1;33m)\u001b[0m\u001b[1;33m\u001b[0m\u001b[1;33m\u001b[0m\u001b[0m\n\u001b[1;32m---> 65\u001b[1;33m     \u001b[0mresposta\u001b[0m \u001b[1;33m=\u001b[0m \u001b[0minput\u001b[0m\u001b[1;33m(\u001b[0m\u001b[1;34m'O que você deseja fazer nessa rodada?'\u001b[0m\u001b[1;33m)\u001b[0m\u001b[1;33m\u001b[0m\u001b[1;33m\u001b[0m\u001b[0m\n\u001b[0m\u001b[0;32m     66\u001b[0m     \u001b[1;32mtry\u001b[0m\u001b[1;33m:\u001b[0m\u001b[1;33m\u001b[0m\u001b[1;33m\u001b[0m\u001b[0m\n\u001b[0;32m     67\u001b[0m         \u001b[1;32mif\u001b[0m \u001b[0mresposta\u001b[0m\u001b[1;33m.\u001b[0m\u001b[0mlower\u001b[0m\u001b[1;33m(\u001b[0m\u001b[1;33m)\u001b[0m\u001b[1;33m==\u001b[0m \u001b[1;34m'upgrade'\u001b[0m\u001b[1;33m:\u001b[0m\u001b[1;33m\u001b[0m\u001b[1;33m\u001b[0m\u001b[0m\n",
      "\u001b[1;32m~\\Anaconda3\\envs\\robotica\\lib\\site-packages\\ipykernel\\kernelbase.py\u001b[0m in \u001b[0;36mraw_input\u001b[1;34m(self, prompt)\u001b[0m\n\u001b[0;32m    858\u001b[0m                 \u001b[1;34m\"raw_input was called, but this frontend does not support input requests.\"\u001b[0m\u001b[1;33m\u001b[0m\u001b[1;33m\u001b[0m\u001b[0m\n\u001b[0;32m    859\u001b[0m             )\n\u001b[1;32m--> 860\u001b[1;33m         return self._input_request(str(prompt),\n\u001b[0m\u001b[0;32m    861\u001b[0m             \u001b[0mself\u001b[0m\u001b[1;33m.\u001b[0m\u001b[0m_parent_ident\u001b[0m\u001b[1;33m,\u001b[0m\u001b[1;33m\u001b[0m\u001b[1;33m\u001b[0m\u001b[0m\n\u001b[0;32m    862\u001b[0m             \u001b[0mself\u001b[0m\u001b[1;33m.\u001b[0m\u001b[0m_parent_header\u001b[0m\u001b[1;33m,\u001b[0m\u001b[1;33m\u001b[0m\u001b[1;33m\u001b[0m\u001b[0m\n",
      "\u001b[1;32m~\\Anaconda3\\envs\\robotica\\lib\\site-packages\\ipykernel\\kernelbase.py\u001b[0m in \u001b[0;36m_input_request\u001b[1;34m(self, prompt, ident, parent, password)\u001b[0m\n\u001b[0;32m    902\u001b[0m             \u001b[1;32mexcept\u001b[0m \u001b[0mKeyboardInterrupt\u001b[0m\u001b[1;33m:\u001b[0m\u001b[1;33m\u001b[0m\u001b[1;33m\u001b[0m\u001b[0m\n\u001b[0;32m    903\u001b[0m                 \u001b[1;31m# re-raise KeyboardInterrupt, to truncate traceback\u001b[0m\u001b[1;33m\u001b[0m\u001b[1;33m\u001b[0m\u001b[1;33m\u001b[0m\u001b[0m\n\u001b[1;32m--> 904\u001b[1;33m                 \u001b[1;32mraise\u001b[0m \u001b[0mKeyboardInterrupt\u001b[0m\u001b[1;33m(\u001b[0m\u001b[1;34m\"Interrupted by user\"\u001b[0m\u001b[1;33m)\u001b[0m \u001b[1;32mfrom\u001b[0m \u001b[1;32mNone\u001b[0m\u001b[1;33m\u001b[0m\u001b[1;33m\u001b[0m\u001b[0m\n\u001b[0m\u001b[0;32m    905\u001b[0m             \u001b[1;32mexcept\u001b[0m \u001b[0mException\u001b[0m \u001b[1;32mas\u001b[0m \u001b[0me\u001b[0m\u001b[1;33m:\u001b[0m\u001b[1;33m\u001b[0m\u001b[1;33m\u001b[0m\u001b[0m\n\u001b[0;32m    906\u001b[0m                 \u001b[0mself\u001b[0m\u001b[1;33m.\u001b[0m\u001b[0mlog\u001b[0m\u001b[1;33m.\u001b[0m\u001b[0mwarning\u001b[0m\u001b[1;33m(\u001b[0m\u001b[1;34m\"Invalid Message:\"\u001b[0m\u001b[1;33m,\u001b[0m \u001b[0mexc_info\u001b[0m\u001b[1;33m=\u001b[0m\u001b[1;32mTrue\u001b[0m\u001b[1;33m)\u001b[0m\u001b[1;33m\u001b[0m\u001b[1;33m\u001b[0m\u001b[0m\n",
      "\u001b[1;31mKeyboardInterrupt\u001b[0m: Interrupted by user"
     ]
    }
   ],
   "source": [
    "#Jean Silas\n",
    "#Paulo Kim\n",
    "# Gabriel TKACZ\n",
    "\n",
    "\n",
    "heroi = {}\n",
    "vilao ={}\n",
    "\n",
    "heroi[\"nome\"] = \"Bob\"\n",
    "vilao[\"nome\"] = \"Patrick\"\n",
    "\n",
    "heroi[\"armadura_fisica\"] = 10\n",
    "vilao[\"armadura_fisica\"] = 10\n",
    "\n",
    "heroi[\"armadura_magica\"] = 10\n",
    "vilao[\"armadura_magica\"] = 10\n",
    "\n",
    "heroi[\"ataque\"] = 4\n",
    "vilao[\"ataque\"] = 12\n",
    "\n",
    "heroi[\"arma\"] = 10\n",
    "vilao[\"arma\"] = 10\n",
    "\n",
    "#heroi[\"defesa\"] = \n",
    "#vilao[\"defesa\"] = \n",
    "\n",
    "heroi[\"vida\"] = 100 + heroi[\"armadura\"]\n",
    "vilao[\"vida\"] = 100 + vilao[\"armadura\"]\n",
    "\n",
    "def magia(vida_heroi,vida_vilao):\n",
    "    magia=random.randint(1,10)\n",
    "    if magia==1:\n",
    "        vida_heroi-=5\n",
    "    elif magia<=3:\n",
    "        return vida_heroi,vida_vilao\n",
    "    elif magia<=8:\n",
    "        vida_vilao-=5\n",
    "    else:\n",
    "        vida_vilao-=10\n",
    "    return vida_heroi,vida_vilao\n",
    "\n",
    "def magia_negra(vida_heroi,vida_vilao):\n",
    "    magia=random.randint(1,10)\n",
    "    if magia==1:\n",
    "        vida_vilao-=5\n",
    "    elif magia<=3:\n",
    "        return vida_heroi,vida_vilao\n",
    "    elif magia<=8:\n",
    "        vida_heroi-=5\n",
    "    else:\n",
    "        vida_heroi-=10\n",
    "    return vida_heroi,vida_vilao\n",
    "\n",
    "rodada = True\n",
    "\n",
    "while rodada:\n",
    "    print(\"Para jogar, digite: atacar, magia, pocao ou upgrade\")\n",
    "    resposta = input('O que você deseja fazer nessa rodada?')\n",
    "    try:\n",
    "        if resposta.lower()== 'upgrade':\n",
    "            upgrade=input(\"Armadura ou arma? \")\n",
    "            if upgrade.lower()=='arma':\n",
    "                if heroi[\"arma\"]==10:\n",
    "                    print(\"Voce recebeu a espada de ferro.\")\n",
    "                    heroi[\"arma\"]=15\n",
    "                elif heroi[\"arma\"]==15:\n",
    "                    print(\"Voce recebeu a espada de diamante.\")\n",
    "                    heroi[\"arma\"]=20\n",
    "                elif heroi[\"arma\"]==20:\n",
    "                    print(\"Você já tem a melhor arma, escolha outra ação.\")\n",
    "                    continue\n",
    "            if upgrade.lower()=='armadura':\n",
    "                if heroi[\"armadura\"]==10:\n",
    "                    print(\"Voce recebeu a armadura de ferro.\")\n",
    "                    heroi[\"armadura\"]=15\n",
    "                elif heroi[\"armadura\"]==15:\n",
    "                    print(\"Voce recebeu a armadura de diamante.\")\n",
    "                    heroi[\"armadura\"]=20\n",
    "                elif heroi[\"armadura\"]==20:\n",
    "                    print(\"Você já tem a melhor arma, escolha outra ação.\")\n",
    "                    continue\n",
    "\n",
    "        elif reposta.lower() == 'atacar':\n",
    "            dano = random.randint(heroi['ataque'] + heroi['arma'])\n",
    "            vilao['vida'] -= dano\n",
    "            print(\"Voce deu \", dano, \"de dano.\")\n",
    "            print(\"Vida do heroi: \",heroi['vida'])\n",
    "            print(\"Vida do vilao: \",vilao['vida'])\n",
    "            \n",
    "        elif resposta.lower() == 'magia':\n",
    "            heroi['vida'],vilao['vida'] = magia(heroi['vida'],vilao['vida'])\n",
    "\n",
    "\n",
    "        vilao_acao = random.randint(2)\n",
    "        vilao_upgrade = random.randit(1)\n",
    "\n",
    "        if vilao_acao == 0:\n",
    "            heroi['vida'] -= random.randint(vilao['ataque'] + vilao['arma'])\n",
    "        elif vilao_acao == 1:\n",
    "            heroi['vida'],vilao['vida'] = magia_negra(heroi['vida'],vilao['vida'])\n",
    "        elif vilao_acao == 2:\n",
    "            if vilao_upgrade == 0:\n",
    "                vilao[\"arma\"] = random.randint\n",
    "    except:\n",
    "        print(\"Digite uma ação válida.\")\n",
    "        continue"
   ]
  },
  {
   "cell_type": "code",
   "execution_count": null,
   "metadata": {},
   "outputs": [],
   "source": []
  }
 ],
 "metadata": {
  "kernelspec": {
   "display_name": "Python 3",
   "language": "python",
   "name": "python3"
  },
  "language_info": {
   "codemirror_mode": {
    "name": "ipython",
    "version": 3
   },
   "file_extension": ".py",
   "mimetype": "text/x-python",
   "name": "python",
   "nbconvert_exporter": "python",
   "pygments_lexer": "ipython3",
   "version": "3.8.5"
  }
 },
 "nbformat": 4,
 "nbformat_minor": 4
}
