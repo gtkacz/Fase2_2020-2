{
 "cells": [
  {
   "cell_type": "code",
   "execution_count": 1,
   "metadata": {},
   "outputs": [
    {
     "name": "stdout",
     "output_type": "stream",
     "text": [
      "Hello World\n"
     ]
    }
   ],
   "source": [
    "print(\"Hello World\")"
   ]
  },
  {
   "cell_type": "code",
   "execution_count": null,
   "metadata": {},
   "outputs": [],
   "source": [
    "#Jean Silas\n",
    "#Paulo Kim\n",
    "# Gabriel TKACZ\n",
    "\n",
    "\n",
    "heroi = {}\n",
    "vilao ={}\n",
    "\n",
    "heroi[\"nome\"] = \"Bob\"\n",
    "vilao[\"nome\"] = \"Patrick\"\n",
    "\n",
    "#heroi[\"armadura\"] = \n",
    "#vilao[\"armadura\"] = \n",
    "\n",
    "#heroi[\"ataque\"] = \n",
    "#vilao[\"ataque\"] = \n",
    "\n",
    "#heroi[\"arma\"] = \n",
    "#vilao[\"arma\"] = \n",
    "\n",
    "#heroi[\"defesa\"] = \n",
    "#vilao[\"defesa\"] = \n",
    "\n",
    "heroi[\"vida\"] = 100 + heroi[\"armadura\"]\n",
    "vilao[\"vida\"] = 100 + vilao[\"armadura\"]"
   ]
  }
 ],
 "metadata": {
  "kernelspec": {
   "display_name": "Python 3",
   "language": "python",
   "name": "python3"
  },
  "language_info": {
   "codemirror_mode": {
    "name": "ipython",
    "version": 3
   },
   "file_extension": ".py",
   "mimetype": "text/x-python",
   "name": "python",
   "nbconvert_exporter": "python",
   "pygments_lexer": "ipython3",
   "version": "3.7.4"
  }
 },
 "nbformat": 4,
 "nbformat_minor": 4
}
