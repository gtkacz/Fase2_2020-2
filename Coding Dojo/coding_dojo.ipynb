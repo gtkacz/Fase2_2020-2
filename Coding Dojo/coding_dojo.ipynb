{
 "cells": [
  {
   "cell_type": "code",
   "execution_count": 1,
   "metadata": {},
   "outputs": [
    {
     "name": "stdout",
     "output_type": "stream",
     "text": [
      "Hello World\n"
     ]
    }
   ],
   "source": [
    "print(\"Hello World\")"
   ]
  },
  {
   "cell_type": "code",
   "execution_count": 1,
   "metadata": {},
   "outputs": [
    {
     "ename": "SyntaxError",
     "evalue": "invalid syntax (<ipython-input-1-ffe0f963b7fc>, line 29)",
     "output_type": "error",
     "traceback": [
      "\u001b[1;36m  File \u001b[1;32m\"<ipython-input-1-ffe0f963b7fc>\"\u001b[1;36m, line \u001b[1;32m29\u001b[0m\n\u001b[1;33m    'espada de diamante':20\u001b[0m\n\u001b[1;37m    ^\u001b[0m\n\u001b[1;31mSyntaxError\u001b[0m\u001b[1;31m:\u001b[0m invalid syntax\n"
     ]
    }
   ],
   "source": [
    "#Jean Silas\n",
    "#Paulo Kim\n",
    "# Gabriel TKACZ\n",
    "\n",
    "\n",
    "heroi = {}\n",
    "vilao ={}\n",
    "\n",
    "heroi[\"nome\"] = \"Bob\"\n",
    "vilao[\"nome\"] = \"Patrick\"\n",
    "\n",
    "#heroi[\"armadura\"] = \n",
    "#vilao[\"armadura\"] = \n",
    "\n",
    "#heroi[\"ataque\"] = \n",
    "#vilao[\"ataque\"] = \n",
    "\n",
    "#heroi[\"arma\"] = \n",
    "#vilao[\"arma\"] = \n",
    "\n",
    "#heroi[\"defesa\"] = \n",
    "#vilao[\"defesa\"] = \n",
    "\n",
    "heroi[\"vida\"] = 100 + heroi[\"armadura\"]\n",
    "vilao[\"vida\"] = 100 + vilao[\"armadura\"]\n",
    "\n",
    "espadas = {\n",
    "    'espada de ferro': 15 \n",
    "    'espada de diamante':20\n",
    "}\n",
    "\n",
    "armadura = {\n",
    "    'armadurade ferro': 15 \n",
    "    'armadura de diamante':20\n",
    "}\n",
    "\n",
    "def magia(vida_heroi,vida_vilao):\n",
    "    magia=random.randint(1,10)\n",
    "    if magia==1:\n",
    "        vida_heroi-=5\n",
    "    elif magia<=3:\n",
    "        return vida_heroi,vida_vilao\n",
    "    elif magia<=8:\n",
    "        vida_vilao-=5\n",
    "    else:\n",
    "        vida_vilao-=10\n",
    "    return vida_heroi,vida_vilao\n",
    "\n",
    "def magia_negra(vida_heroi,vida_vilao):\n",
    "    magia=random.randint(1,10)\n",
    "    if magia==1:\n",
    "        vida_vilao-=5\n",
    "    elif magia<=3:\n",
    "        return vida_heroi,vida_vilao\n",
    "    elif magia<=8:\n",
    "        vida_heroi-=5\n",
    "    else:\n",
    "        vida_heroi-=10\n",
    "    return vida_heroi,vida_vilao\n",
    "\n",
    "rodada = True\n",
    "\n",
    "while rodada:\n",
    "    print(\"Para jogar, digite: atacar, magia, pocao ou upgrade\")\n",
    "    resposta = input('O que você deseja fazer nessa rodada?')\n",
    "    try:\n",
    "        if resposta.lower()== 'upgrade':\n",
    "            upgrade=input(\"Armadura ou arma? \")\n",
    "            if upgrade.lower()=='arma':\n",
    "                if heroi[\"arma\"]==10:\n",
    "                    heroi[\"arma\"]=15\n",
    "        elif reposta.lower() == 'atacar':\n",
    "            vilao['vida'] ="
   ]
  },
  {
   "cell_type": "code",
   "execution_count": null,
   "metadata": {},
   "outputs": [],
   "source": []
  }
 ],
 "metadata": {
  "kernelspec": {
   "display_name": "Python 3",
   "language": "python",
   "name": "python3"
  },
  "language_info": {
   "codemirror_mode": {
    "name": "ipython",
    "version": 3
   },
   "file_extension": ".py",
   "mimetype": "text/x-python",
   "name": "python",
   "nbconvert_exporter": "python",
   "pygments_lexer": "ipython3",
   "version": "3.8.5"
  }
 },
 "nbformat": 4,
 "nbformat_minor": 4
}
